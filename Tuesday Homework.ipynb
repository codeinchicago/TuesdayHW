{
 "cells": [
  {
   "cell_type": "code",
   "execution_count": null,
   "id": "1d55d926",
   "metadata": {},
   "outputs": [],
   "source": [
    "Exercise #1\n",
    "Filter out all of the empty strings from the list below\n",
    "\n",
    "\n",
    "places = [\" \",\"Argentina\", \" \", \"San Diego\",\"\",\"  \",\"\",\"Boston\",\"New York\"]"
   ]
  },
  {
   "cell_type": "code",
   "execution_count": 2,
   "id": "afd86f90",
   "metadata": {},
   "outputs": [
    {
     "name": "stdout",
     "output_type": "stream",
     "text": [
      "['Argentina', 'San Diego', 'Boston', 'New York']\n"
     ]
    }
   ],
   "source": [
    "places = [\" \",\"Argentina\", \" \", \"San Diego\",\"\",\"  \",\"\",\"Boston\",\"New York\"]\n",
    "\n",
    "actual_places = list(filter(lambda name: True if (name.isspace() or len(name)==0) != True else False, places))\n",
    "print(actual_places)"
   ]
  },
  {
   "cell_type": "code",
   "execution_count": null,
   "id": "f93ce08d",
   "metadata": {},
   "outputs": [],
   "source": [
    "Exercise #2\n",
    "Write an anonymous function that sorts this list by the last name...\n",
    "Hint: Use the \".sort()\" method or the \"sorted()\" function and access the key\"\n",
    "\n",
    "Output: ['Victor aNisimov', 'Gary A.J. Bernstein', 'Joel Carter', 'Andrew P. Garfield', 'David hassELHOFF']"
   ]
  },
  {
   "cell_type": "code",
   "execution_count": 15,
   "id": "be50ea76",
   "metadata": {},
   "outputs": [
    {
     "data": {
      "text/plain": [
       "['Victor aNisimov',\n",
       " 'Gary A.J. Bernstein',\n",
       " 'Joel Carter',\n",
       " 'Andrew P. Garfield',\n",
       " 'David hassELHOFF']"
      ]
     },
     "execution_count": 15,
     "metadata": {},
     "output_type": "execute_result"
    }
   ],
   "source": [
    "author = [\"Joel Carter\", \"Victor aNisimov\", \"Andrew P. Garfield\",\"David hassELHOFF\",\"Gary A.J. Bernstein\"]\n",
    "\n",
    "def sort_last(author):\n",
    "\n",
    "    author.sort(key=lambda x: x.split()[-1].lower())\n",
    "    return author\n",
    "sort_last(author)"
   ]
  },
  {
   "cell_type": "code",
   "execution_count": null,
   "id": "05a5f415",
   "metadata": {},
   "outputs": [],
   "source": [
    "Exercise #3\n",
    "Convert the list below from Celsius to Farhenheit, using the map function with a lambda...\n",
    "\n",
    "Output: [('Nashua', 89.6), ('Boston', 53.6), ('Los Angeles', 111.2), ('Miami', 84.2)]"
   ]
  },
  {
   "cell_type": "code",
   "execution_count": null,
   "id": "7b1028dc",
   "metadata": {},
   "outputs": [],
   "source": [
    "places = [('Nashua',32),(\"Boston\",12),(\"Los Angeles\",44),(\"Miami\",29)]\n",
    "\n",
    "#print(list(map(lambda x: 9/5 * x[1] + 32, places)))\n",
    "fahr_temp = list(map(lambda x: 9/5 * x[1] + 32, places))\n",
    "print(fahr_temp)\n",
    "print(type(fahr_temp))\n",
    "\n",
    "print(type(places))\n",
    "\n",
    "\n",
    "#Why does this not work? Brings up \"tuple object does not support item assignment.\"\n",
    "# for i in range(len(places)):\n",
    "#     places[i][1] = fahr_temp[i]\n",
    "\n",
    "#Checked the below code, and both items were integers.\n",
    "# print(type(places[0][1]))\n",
    "# print(fahr_temp[0])\n",
    "# newlist = []\n",
    "# for i in range(len(places)):\n",
    "#     fahr_temp[i] = 5"
   ]
  },
  {
   "cell_type": "code",
   "execution_count": null,
   "id": "e59df538",
   "metadata": {},
   "outputs": [],
   "source": [
    "Exercise #4\n",
    "Write a recursion function to perform the fibonacci sequence up to the number passed in.\n",
    "\n",
    "Output for fib(5) => \n",
    "Iteration 0: 1\n",
    "Iteration 1: 1\n",
    "Iteration 2: 2\n",
    "Iteration 3: 3\n",
    "Iteration 4: 5\n",
    "Iteration 5: 8"
   ]
  },
  {
   "cell_type": "code",
   "execution_count": 4,
   "id": "7f8c5263",
   "metadata": {},
   "outputs": [
    {
     "data": {
      "text/plain": [
       "8"
      ]
     },
     "execution_count": 4,
     "metadata": {},
     "output_type": "execute_result"
    }
   ],
   "source": [
    "def fibionacci(num):\n",
    "    if num <= 1:\n",
    "        return 1\n",
    "    else:\n",
    "        return fibionacci(num-1) + fibionacci(num-2)\n",
    "\n",
    "fibionacci(5)"
   ]
  },
  {
   "cell_type": "markdown",
   "id": "4fecb413",
   "metadata": {},
   "source": [
    "Exercise #5\n",
    "Create a generator that takes a number argument and yields that number squared, then prints each number squared until zero is reached."
   ]
  },
  {
   "cell_type": "code",
   "execution_count": 1,
   "id": "3aec6522",
   "metadata": {},
   "outputs": [
    {
     "name": "stdout",
     "output_type": "stream",
     "text": [
      "100\n",
      "81\n",
      "64\n",
      "49\n",
      "36\n",
      "25\n",
      "16\n",
      "9\n",
      "4\n",
      "1\n"
     ]
    }
   ],
   "source": [
    "def squared_gen(num):\n",
    "    while num > 0:\n",
    "        yield num **2\n",
    "        num -= 1\n",
    "\n",
    "for x in squared_gen(10):\n",
    "    print(x)"
   ]
  },
  {
   "cell_type": "code",
   "execution_count": null,
   "id": "1cabc17b",
   "metadata": {},
   "outputs": [],
   "source": []
  }
 ],
 "metadata": {
  "kernelspec": {
   "display_name": "Python 3 (ipykernel)",
   "language": "python",
   "name": "python3"
  },
  "language_info": {
   "codemirror_mode": {
    "name": "ipython",
    "version": 3
   },
   "file_extension": ".py",
   "mimetype": "text/x-python",
   "name": "python",
   "nbconvert_exporter": "python",
   "pygments_lexer": "ipython3",
   "version": "3.9.7"
  }
 },
 "nbformat": 4,
 "nbformat_minor": 5
}
